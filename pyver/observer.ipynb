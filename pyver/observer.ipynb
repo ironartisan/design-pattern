{
 "cells": [
  {
   "cell_type": "markdown",
   "source": [
    "#### 定义观察者与被观察者的基类"
   ],
   "metadata": {
    "collapsed": false
   }
  },
  {
   "cell_type": "code",
   "execution_count": 6,
   "outputs": [],
   "source": [
    "from abc import ABCMeta, abstractmethod\n",
    "# 引入ABCMeta和abstractmethod来定义抽象类和抽象方法\n",
    "\n",
    "class Observer(metaclass=ABCMeta):\n",
    "    \"\"\"观察者的基类\"\"\"\n",
    "\n",
    "    @abstractmethod\n",
    "    def update(self, observable, object):\n",
    "        pass\n",
    "\n",
    "\n",
    "class Observable:\n",
    "    \"\"\"被观察者的基类\"\"\"\n",
    "\n",
    "    def __init__(self):\n",
    "        self.__observers = []\n",
    "\n",
    "    def addObserver(self, observer):\n",
    "        self.__observers.append(observer)\n",
    "\n",
    "    def removeObserver(self, observer):\n",
    "        self.__observers.remove(observer)\n",
    "\n",
    "    def notifyObservers(self, object=0):\n",
    "        for o in self.__observers:\n",
    "            o.update(self, object)"
   ],
   "metadata": {
    "collapsed": false,
    "pycharm": {
     "name": "#%%\n",
     "is_executing": false
    }
   }
  },
  {
   "cell_type": "markdown",
   "source": [
    "#### 定义"
   ],
   "metadata": {
    "collapsed": false,
    "pycharm": {
     "name": "#%% md\n"
    }
   }
  },
  {
   "cell_type": "code",
   "execution_count": null,
   "outputs": [],
   "source": [
    "class WaterHeater(Observable):\n",
    "    \"\"\"热水器：战胜寒冬的有利武器\"\"\"\n",
    "\n",
    "    def __init__(self):\n",
    "        super().__init__()\n",
    "        self.__temperature = 25\n",
    "\n",
    "    def getTemperature(self):\n",
    "        return self.__temperature\n",
    "\n",
    "    def setTemperature(self, temperature):\n",
    "        self.__temperature = temperature\n",
    "        print(\"当前温度是：\" + str(self.__temperature) + \"℃\")\n",
    "        self.notifyObservers()\n",
    "\n",
    "\n",
    "class WashingMode(Observer):\n",
    "    \"\"\"该模式用于洗澡用\"\"\"\n",
    "\n",
    "    def update(self, observable, object):\n",
    "        if isinstance(observable, WaterHeater) \\\n",
    "                and observable.getTemperature() >= 50 and observable.getTemperature() < 70:\n",
    "            print(\"水已烧好！温度正好，可以用来洗澡了。\")\n",
    "\n",
    "\n",
    "class DrinkingMode(Observer):\n",
    "    \"该模式用于饮用\"\n",
    "\n",
    "    def update(self, observable, object):\n",
    "        if isinstance(observable, WaterHeater) and observable.getTemperature() >= 100:\n",
    "            print(\"水已烧开！可以用来饮用了。\")"
   ],
   "metadata": {
    "collapsed": false,
    "pycharm": {
     "name": "#%%\n"
    }
   }
  },
  {
   "cell_type": "markdown",
   "source": [
    "#### 测试"
   ],
   "metadata": {
    "collapsed": false,
    "pycharm": {
     "name": "#%% md\n"
    }
   }
  },
  {
   "cell_type": "code",
   "execution_count": 8,
   "outputs": [
    {
     "name": "stdout",
     "text": [
      "当前温度是：40℃\n",
      "当前温度是：60℃\n",
      "水已烧好！温度正好，可以用来洗澡了。\n",
      "当前温度是：100℃\n",
      "水已烧开！可以用来饮用了。\n"
     ],
     "output_type": "stream"
    }
   ],
   "source": [
    "def testWaterHeater():\n",
    "    heater = WaterHeater()\n",
    "    washingObser = WashingMode()\n",
    "    drinkingObser = DrinkingMode()\n",
    "    heater.addObserver(washingObser)\n",
    "    heater.addObserver(drinkingObser)\n",
    "    heater.setTemperature(40)\n",
    "    heater.setTemperature(60)\n",
    "    heater.setTemperature(100)\n",
    "\n",
    "testWaterHeater()"
   ],
   "metadata": {
    "collapsed": false,
    "pycharm": {
     "name": "#%%        \n",
     "is_executing": false
    }
   }
  }
 ],
 "metadata": {
  "kernelspec": {
   "name": "pycharm-34e9d76f",
   "language": "python",
   "display_name": "PyCharm (design-pattern)"
  },
  "language_info": {
   "codemirror_mode": {
    "name": "ipython",
    "version": 2
   },
   "file_extension": ".py",
   "mimetype": "text/x-python",
   "name": "python",
   "nbconvert_exporter": "python",
   "pygments_lexer": "ipython2",
   "version": "2.7.6"
  },
  "pycharm": {
   "stem_cell": {
    "cell_type": "raw",
    "source": [],
    "metadata": {
     "collapsed": false
    }
   }
  }
 },
 "nbformat": 4,
 "nbformat_minor": 0
}