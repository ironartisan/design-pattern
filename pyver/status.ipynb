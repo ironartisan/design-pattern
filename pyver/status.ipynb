{
 "cells": [
  {
   "cell_type": "code",
   "execution_count": 19,
   "metadata": {
    "pycharm": {
     "is_executing": false
    }
   },
   "outputs": [],
   "source": [
    "from abc import ABCMeta, abstractmethod\n",
    "# 引入ABCMeta和abstractmethod来定义抽象类和抽象方法"
   ]
  },
  {
   "cell_type": "code",
   "execution_count": 20,
   "metadata": {
    "pycharm": {
     "is_executing": false,
     "name": "#%%\n"
    }
   },
   "outputs": [],
   "source": [
    "class Context(metaclass=ABCMeta):\n",
    "    \"\"\"状态模式的上下文环境类,负责具体状态的切换\"\"\"\n",
    "\n",
    "    def __init__(self):\n",
    "        self.__states = []\n",
    "        self.__curState = None\n",
    "        # 状态发生变化依赖的属性, 当这一变量由多个变量共同决定时可以将其单独定义成一个类\n",
    "        self.__stateInfo = 0\n",
    "\n",
    "    def addState(self, state):\n",
    "        if state not in self.__states:\n",
    "            self.__states.append(state)\n",
    "\n",
    "    def changeState(self, state):\n",
    "        if not state:\n",
    "            return False\n",
    "        if not self.__curState:\n",
    "            print(\"初始化为\", state.getName())\n",
    "        else:\n",
    "            print(\"由\", self.__curState.getName(), \"变为\", state.getName())\n",
    "        self.__curState = state\n",
    "        self.addState(state)\n",
    "        return True\n",
    "\n",
    "    def getState(self):\n",
    "        return self.__curState\n",
    "\n",
    "    def _setStateInfo(self, stateInfo):\n",
    "        self.__stateInfo = stateInfo\n",
    "        for state in self.__states:\n",
    "            if( state.isMatch(stateInfo) ):\n",
    "                self.changeState(state)\n",
    "\n",
    "    def _getStateInfo(self):\n",
    "        return self.__stateInfo\n",
    "\n",
    "\n",
    "class State:\n",
    "    \"\"\"状态的基类，负责状态的定义与接口的统一\"\"\"\n",
    "\n",
    "    def __init__(self, name):\n",
    "        self.__name = name\n",
    "\n",
    "    def getName(self):\n",
    "        return self.__name\n",
    "\n",
    "    def isMatch(self, stateInfo):\n",
    "        \"状态的属性stateInfo是否在当前的状态范围内\"\n",
    "        return False\n",
    "\n",
    "    @abstractmethod\n",
    "    def behavior(self, context):\n",
    "        pass\n"
   ]
  },
  {
   "cell_type": "code",
   "execution_count": 21,
   "metadata": {
    "pycharm": {
     "is_executing": false,
     "name": "#%%\n"
    }
   },
   "outputs": [],
   "source": [
    "# Demo 实现\n",
    "\n",
    "class Water(Context):\n",
    "    \"\"\"水(H2O)\"\"\"\n",
    "\n",
    "    def __init__(self):\n",
    "        super().__init__()\n",
    "        self.addState(SolidState(\"固态\"))\n",
    "        self.addState(LiquidState(\"液态\"))\n",
    "        self.addState(GaseousState(\"气态\"))\n",
    "        self.setTemperature(25)\n",
    "\n",
    "    def getTemperature(self):\n",
    "        return self._getStateInfo()\n",
    "\n",
    "    def setTemperature(self, temperature):\n",
    "        self._setStateInfo(temperature)\n",
    "\n",
    "    def riseTemperature(self, step):\n",
    "        self.setTemperature(self.getTemperature() + step)\n",
    "\n",
    "    def reduceTemperature(self, step):\n",
    "        self.setTemperature(self.getTemperature() - step)\n",
    "\n",
    "    def behavior(self):\n",
    "        state = self.getState()\n",
    "        if(isinstance(state, State)):\n",
    "            state.behavior(self)\n",
    "\n",
    "\n",
    "# 单例的装饰器\n",
    "def singleton(cls, *args, **kwargs):\n",
    "    \"构造一个单例的装饰器\"\n",
    "    instance = {}\n",
    "\n",
    "    def __singleton(*args, **kwargs):\n",
    "        if cls not in instance:\n",
    "            instance[cls] = cls(*args, **kwargs)\n",
    "        return instance[cls]\n",
    "\n",
    "    return __singleton\n",
    "\n",
    "\n",
    "@singleton\n",
    "class SolidState(State):\n",
    "    \"\"\"固态\"\"\"\n",
    "\n",
    "    def __init__(self, name):\n",
    "        super().__init__(name)\n",
    "\n",
    "    def isMatch(self, stateInfo):\n",
    "        return stateInfo < 0\n",
    "\n",
    "    def behavior(self, context):\n",
    "        print(\"我性格高冷，当前体温\", context._getStateInfo(),\n",
    "              \"℃，我坚如钢铁，仿如一冷血动物，请用我砸人，嘿嘿……\")\n",
    "\n",
    "\n",
    "@singleton\n",
    "class LiquidState(State):\n",
    "    \"\"\"液态\"\"\"\n",
    "\n",
    "    def __init__(self, name):\n",
    "        super().__init__(name)\n",
    "\n",
    "    def isMatch(self, stateInfo):\n",
    "        return (stateInfo >= 0 and stateInfo < 100)\n",
    "\n",
    "    def behavior(self, context):\n",
    "        print(\"我性格温和，当前体温\", context._getStateInfo(),\n",
    "              \"℃，我可滋润万物，饮用我可让你活力倍增……\")\n",
    "\n",
    "@singleton\n",
    "class GaseousState(State):\n",
    "    \"\"\"气态\"\"\"\n",
    "\n",
    "    def __init__(self, name):\n",
    "        super().__init__(name)\n",
    "\n",
    "    def isMatch(self, stateInfo):\n",
    "        return stateInfo >= 100\n",
    "\n",
    "    def behavior(self, context):\n",
    "        print(\"我性格热烈，当前体温\", context._getStateInfo(),\n",
    "              \"℃，飞向天空是我毕生的梦想，在这你将看不到我的存在，我将达到无我的境界……\")"
   ]
  },
  {
   "cell_type": "code",
   "execution_count": 22,
   "metadata": {
    "pycharm": {
     "is_executing": false,
     "name": "#%%\n"
    }
   },
   "outputs": [
    {
     "name": "stdout",
     "output_type": "stream",
     "text": [
      "初始化为 液态\n",
      "我性格温和，当前体温 25 ℃，我可滋润万物，饮用我可让你活力倍增……\n",
      "由 液态 变为 固态\n",
      "我性格高冷，当前体温 -4 ℃，我坚如钢铁，仿如一冷血动物，请用我砸人，嘿嘿……\n",
      "由 固态 变为 液态\n",
      "我性格温和，当前体温 14 ℃，我可滋润万物，饮用我可让你活力倍增……\n",
      "由 液态 变为 气态\n",
      "我性格热烈，当前体温 124 ℃，飞向天空是我毕生的梦想，在这你将看不到我的存在，我将达到无我的境界……\n"
     ]
    }
   ],
   "source": [
    "# Test\n",
    "########################################################################################################################\n",
    "def testState():\n",
    "    # water = Water(LiquidState(\"液态\"))\n",
    "    water = Water()\n",
    "    water.behavior()\n",
    "    water.setTemperature(-4)\n",
    "    water.behavior()\n",
    "    water.riseTemperature(18)\n",
    "    water.behavior()\n",
    "    water.riseTemperature(110)\n",
    "    water.behavior()\n",
    "\n",
    "\n",
    "testState()\n",
    "\n"
   ]
  }
 ],
 "metadata": {
  "kernelspec": {
   "display_name": "PyCharm (design-pattern)",
   "language": "python",
   "name": "pycharm-34e9d76f"
  },
  "language_info": {
   "codemirror_mode": {
    "name": "ipython",
    "version": 3
   },
   "file_extension": ".py",
   "mimetype": "text/x-python",
   "name": "python",
   "nbconvert_exporter": "python",
   "pygments_lexer": "ipython3",
   "version": "3.6.9"
  },
  "pycharm": {
   "stem_cell": {
    "cell_type": "raw",
    "metadata": {
     "collapsed": false
    },
    "source": []
   }
  }
 },
 "nbformat": 4,
 "nbformat_minor": 1
}
